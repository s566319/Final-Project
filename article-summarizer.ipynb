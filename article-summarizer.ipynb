{
 "cells": [
  {
   "cell_type": "markdown",
   "metadata": {},
   "source": [
    "# Web Mining and Applied NLP (44-620)\n",
    "\n",
    "## Final Project: Article Summarizer\n",
    "\n",
    "### Student Name: Inga Miller\n",
    "#### GitHub Repo: https://github.com/s566319/Final-Project\n",
    "\n",
    "Perform the tasks described in the Markdown cells below.  When you have completed the assignment make sure your code cells have all been run (and have output beneath them) and ensure you have committed and pushed ALL of your changes to your assignment repository.\n",
    "\n",
    "You should bring in code from previous assignments to help you answer the questions below.\n",
    "\n",
    "Every question that requires you to write code will have a code cell underneath it; you may either write your entire solution in that cell or write it in a python file (`.py`), then import and run the appropriate code to answer the question."
   ]
  },
  {
   "cell_type": "code",
   "execution_count": 31,
   "metadata": {},
   "outputs": [
    {
     "name": "stdout",
     "output_type": "stream",
     "text": [
      "Package                   Version\n",
      "------------------------- ---------------\n",
      "annotated-types           0.6.0\n",
      "anyio                     4.3.0\n",
      "argon2-cffi               23.1.0\n",
      "argon2-cffi-bindings      21.2.0\n",
      "arrow                     1.3.0\n",
      "asttokens                 2.4.1\n",
      "async-lru                 2.0.4\n",
      "attrs                     23.2.0\n",
      "Babel                     2.14.0\n",
      "beautifulsoup4            4.12.3\n",
      "bleach                    6.1.0\n",
      "blis                      0.7.11\n",
      "catalogue                 2.0.10\n",
      "certifi                   2024.2.2\n",
      "cffi                      1.16.0\n",
      "charset-normalizer        3.3.2\n",
      "click                     8.1.7\n",
      "cloudpathlib              0.16.0\n",
      "colorama                  0.4.6\n",
      "comm                      0.2.1\n",
      "confection                0.1.4\n",
      "contourpy                 1.2.0\n",
      "cycler                    0.12.1\n",
      "cymem                     2.0.8\n",
      "debugpy                   1.8.1\n",
      "decorator                 5.1.1\n",
      "defusedxml                0.7.1\n",
      "en-core-web-sm            3.7.1\n",
      "executing                 2.0.1\n",
      "fastjsonschema            2.19.1\n",
      "fonttools                 4.50.0\n",
      "fqdn                      1.5.1\n",
      "h11                       0.14.0\n",
      "httpcore                  1.0.4\n",
      "httpx                     0.27.0\n",
      "idna                      3.6\n",
      "ipykernel                 6.29.3\n",
      "ipython                   8.22.2\n",
      "isoduration               20.11.0\n",
      "jedi                      0.19.1\n",
      "Jinja2                    3.1.3\n",
      "joblib                    1.3.2\n",
      "json5                     0.9.20\n",
      "jsonpointer               2.4\n",
      "jsonschema                4.21.1\n",
      "jsonschema-specifications 2023.12.1\n",
      "jupyter_client            8.6.0\n",
      "jupyter_core              5.7.1\n",
      "jupyter-events            0.9.0\n",
      "jupyter-lsp               2.2.3\n",
      "jupyter_server            2.13.0\n",
      "jupyter_server_terminals  0.5.2\n",
      "jupyterlab                4.1.3\n",
      "jupyterlab_pygments       0.3.0\n",
      "jupyterlab_server         2.25.3\n",
      "kiwisolver                1.4.5\n",
      "langcodes                 3.3.0\n",
      "MarkupSafe                2.1.5\n",
      "matplotlib                3.8.3\n",
      "matplotlib-inline         0.1.6\n",
      "mistune                   3.0.2\n",
      "murmurhash                1.0.10\n",
      "nbclient                  0.9.0\n",
      "nbconvert                 7.16.2\n",
      "nbformat                  5.9.2\n",
      "nest-asyncio              1.6.0\n",
      "nltk                      3.8.1\n",
      "notebook_shim             0.2.4\n",
      "numpy                     1.26.4\n",
      "overrides                 7.7.0\n",
      "packaging                 23.2\n",
      "pandocfilters             1.5.1\n",
      "parso                     0.8.3\n",
      "pillow                    10.2.0\n",
      "pip                       24.0\n",
      "platformdirs              4.2.0\n",
      "preshed                   3.0.9\n",
      "prometheus_client         0.20.0\n",
      "prompt-toolkit            3.0.43\n",
      "psutil                    5.9.8\n",
      "pure-eval                 0.2.2\n",
      "pycparser                 2.21\n",
      "pydantic                  2.6.4\n",
      "pydantic_core             2.16.3\n",
      "Pygments                  2.17.2\n",
      "pyparsing                 3.1.2\n",
      "python-dateutil           2.9.0.post0\n",
      "python-json-logger        2.0.7\n",
      "pywin32                   306\n",
      "pywinpty                  2.0.13\n",
      "PyYAML                    6.0.1\n",
      "pyzmq                     25.1.2\n",
      "referencing               0.33.0\n",
      "regex                     2023.12.25\n",
      "requests                  2.31.0\n",
      "rfc3339-validator         0.1.4\n",
      "rfc3986-validator         0.1.1\n",
      "rpds-py                   0.18.0\n",
      "Send2Trash                1.8.2\n",
      "setuptools                69.2.0\n",
      "six                       1.16.0\n",
      "smart-open                6.4.0\n",
      "sniffio                   1.3.1\n",
      "soupsieve                 2.5\n",
      "spacy                     3.7.4\n",
      "spacy-legacy              3.0.12\n",
      "spacy-loggers             1.0.5\n",
      "spacytextblob             4.0.0\n",
      "srsly                     2.4.8\n",
      "stack-data                0.6.3\n",
      "terminado                 0.18.0\n",
      "textblob                  0.15.3\n",
      "thinc                     8.2.3\n",
      "tinycss2                  1.2.1\n",
      "tornado                   6.4\n",
      "tqdm                      4.66.2\n",
      "traitlets                 5.14.1\n",
      "typer                     0.9.4\n",
      "types-python-dateutil     2.8.19.20240106\n",
      "typing_extensions         4.10.0\n",
      "uri-template              1.3.0\n",
      "urllib3                   2.2.1\n",
      "wasabi                    1.1.2\n",
      "wcwidth                   0.2.13\n",
      "weasel                    0.3.4\n",
      "webcolors                 1.13\n",
      "webencodings              0.5.1\n",
      "websocket-client          1.7.0\n",
      "All prereqs installed.\n"
     ]
    }
   ],
   "source": [
    "import json\n",
    "from collections import Counter\n",
    "import pickle\n",
    "import requests\n",
    "import spacy\n",
    "from spacytextblob.spacytextblob import SpacyTextBlob\n",
    "from bs4 import BeautifulSoup\n",
    "from random import randint\n",
    "import matplotlib.pyplot as plt\n",
    "\n",
    "!pip list\n",
    "\n",
    "print('All prereqs installed.')"
   ]
  },
  {
   "cell_type": "markdown",
   "metadata": {},
   "source": [
    "1. Find on the internet an article or blog post about a topic that interests you and you are able to get the text for using the technologies we have applied in the course.  Get the html for the article and store it in a file (which you must submit with your project)"
   ]
  },
  {
   "cell_type": "code",
   "execution_count": 32,
   "metadata": {},
   "outputs": [
    {
     "name": "stdout",
     "output_type": "stream",
     "text": [
      "This article html is now aved to 'article_html.pkl' succesfully.\n"
     ]
    }
   ],
   "source": [
    "import requests\n",
    "import pickle\n",
    "\n",
    "url = \"https://www.kaggle.com/code/fuzzywizard/diamonds-in-depth-analysis\"\n",
    "\n",
    "try:\n",
    "    #fetch html content from url\n",
    "    response = requests.get(url)\n",
    "    if response.status_code == 200:\n",
    "        article_html = response.text\n",
    "\n",
    "        with open(\"article_html.pkl\", \"wb\") as file:\n",
    "            pickle.dump(article_html, file)\n",
    "        print(\"This article html is now aved to 'article_html.pkl' succesfully.\")\n",
    "    else:\n",
    "        print(f\" Article failed to fetch the URL. Status code: {response.status_code}\")\n",
    "except requests.RequestException as e:\n",
    "    print(f\"There was an error while fetching url: {e}\")"
   ]
  },
  {
   "cell_type": "markdown",
   "metadata": {},
   "source": [
    "2. Read in your article's html source from the file you created in question 1 and do sentiment analysis on the article/post's text (use `.get_text()`).  Print the polarity score with an appropriate label.  Additionally print the number of sentences in the original article (with an appropriate label)"
   ]
  },
  {
   "cell_type": "code",
   "execution_count": 33,
   "metadata": {},
   "outputs": [
    {
     "name": "stdout",
     "output_type": "stream",
     "text": [
      "\n",
      "\n",
      "\n",
      "\n",
      "Diamonds In-Depth Analysis | Kaggle\n",
      "\n",
      "\n",
      "\n",
      "\n",
      "\n",
      "\n",
      "\n",
      "\n",
      "\n",
      "\n",
      "\n",
      "\n",
      "\n",
      "\n",
      "\n",
      "\n",
      "\n",
      "\n",
      "\n",
      "\n",
      "\n",
      "\n",
      "\n",
      "\n",
      "\n",
      "\n",
      "\n",
      "\n",
      "\n",
      "\n",
      "\n",
      "\n",
      "\n",
      "\n",
      "\n",
      "\n",
      "\n",
      "\n",
      "\n",
      "\n",
      "\n",
      "\n",
      "\n",
      "\n",
      "\n",
      "\n",
      "\n",
      "\n",
      "\n",
      "\n",
      "\n",
      "\n",
      "\n",
      "\n"
     ]
    }
   ],
   "source": [
    "import pickle\n",
    "from bs4 import BeautifulSoup\n",
    "\n",
    "try:\n",
    "    with open(\"article_html.pkl\", \"rb\") as file:\n",
    "        article_html = pickle.load(file)\n",
    "    \n",
    "    soup = BeautifulSoup(article_html, \"html.parser\")\n",
    "\n",
    "    article_text = soup.get_text()\n",
    "    print(article_text)\n",
    "\n",
    "except FileNotFoundError:\n",
    "    print(\"No file 'article_html.pkl' not found. Run the code from Question 1 above\")\n",
    "except Exception as e:\n",
    "    print(f\"Error occured and file will not be printed: {e}\")"
   ]
  },
  {
   "cell_type": "markdown",
   "metadata": {},
   "source": [
    "3. Load the article text into a trained `spaCy` pipeline, and determine the 5 most frequent tokens (converted to lower case).  Print the common tokens with an appropriate label.  Additionally, print the tokens their frequencies (with appropriate labels)"
   ]
  },
  {
   "cell_type": "code",
   "execution_count": 34,
   "metadata": {},
   "outputs": [
    {
     "name": "stdout",
     "output_type": "stream",
     "text": [
      "These are the five most frequent tokens:\n",
      "diamonds: 1\n",
      "depth: 1\n",
      "analysis: 1\n",
      "kaggle: 1\n"
     ]
    }
   ],
   "source": [
    "import spacy\n",
    "from collections import Counter\n",
    "import string\n",
    "from spacy.lang.en.stop_words import STOP_WORDS\n",
    "import pickle\n",
    "from bs4 import BeautifulSoup\n",
    "\n",
    "\n",
    "def preprocess_txt(text):\n",
    "    # Load spacy\n",
    "    nlp = spacy.load(\"en_core_web_sm\")\n",
    "\n",
    "    #process the article\n",
    "    doc = nlp(article_text)\n",
    "    stop_words = nlp.Defaults.stop_words\n",
    "    stop_words |= {\"report\", \"comment\", \"March\", \"2021\", \"says\", \"am\", \"at\", \"pm\"}   \n",
    "\n",
    "    #process the article for interesting tokens\n",
    "    interesting_tokens = [token.text.lower() for token in doc if token.text.lower() not in nlp.Defaults.stop_words and token.text.lower() not in string.punctuation and not token.is_space]\n",
    "\n",
    "    #tokens = [token.text.lower() for token in doc if token.text.lower() not in stop_words and token.text.lower() not in string.punctuation and not token.is_space]\n",
    "    return interesting_tokens\n",
    "\n",
    "try:\n",
    "        with open(\"article_html.pkl\", \"rb\") as file:\n",
    "            article_html = pickle.load(file)\n",
    "            soup = BeautifulSoup(article_html, 'html.parser')\n",
    "            article_text = soup.get_text()\n",
    "            tokens = preprocess_txt(article_text)\n",
    "\n",
    "            most_common_tokens = Counter(tokens).most_common(5)\n",
    "            print(\"These are the five most frequent tokens:\")\n",
    "            for token, frequency in most_common_tokens:\n",
    "                print(f\"{token}: {frequency}\")\n",
    "except FileNotFoundError:\n",
    "    print(\"File 'article_html.pkl' is not found.\")\n",
    "except Exception as e:\n",
    "    print(f\"An error has occured: {e}\")"
   ]
  },
  {
   "cell_type": "markdown",
   "metadata": {},
   "source": [
    "4. Load the article text into a trained `spaCy` pipeline, and determine the 5 most frequent lemmas (converted to lower case).  Print the common lemmas with an appropriate label.  Additionally, print the lemmas with their frequencies (with appropriate labels)."
   ]
  },
  {
   "cell_type": "code",
   "execution_count": 35,
   "metadata": {},
   "outputs": [
    {
     "name": "stdout",
     "output_type": "stream",
     "text": [
      "These are the five most frequent lemmas:\n",
      "'diamond': 1\n",
      "'depth': 1\n",
      "'analysis': 1\n",
      "'|': 1\n",
      "'kaggle': 1\n"
     ]
    }
   ],
   "source": [
    "import spacy\n",
    "from collections import Counter\n",
    "import string\n",
    "from spacy.lang.en.stop_words import STOP_WORDS\n",
    "import pickle\n",
    "from bs4 import BeautifulSoup\n",
    "\n",
    "def preprocess_txt(text):\n",
    "    # Load spacy\n",
    "    nlp = spacy.load(\"en_core_web_sm\")\n",
    "\n",
    "    #process the article\n",
    "    doc = nlp(article_text)\n",
    "    stop_words = nlp.Defaults.stop_words\n",
    "    stop_words |= {\"report\", \"comment\", \"March\", \"2021\", \"says\", \"am\", \"at\", \"pm\"}\n",
    "\n",
    "    #process the article for interesting lemas\n",
    "    interesting_lemmas = [token.lemma_.lower() for token in doc if not token.is_punct and not token.is_stop and not token.is_space]\n",
    "\n",
    "    #tokens = [token.text.lower() for token in doc if token.text.lower() not in stop_words and token.text.lower() not in string.punctuation and not token.is_space]\n",
    "    return interesting_lemmas\n",
    "\n",
    "try:\n",
    "        with open(\"article_html.pkl\", \"rb\") as file:\n",
    "            article_html = pickle.load(file)\n",
    "            soup = BeautifulSoup(article_html, 'html.parser')\n",
    "            article_text = soup.get_text()\n",
    "            lemmas = preprocess_txt(article_text)\n",
    "            lemma_frequencies = Counter(lemmas)\n",
    "            most_common_lemmas = lemma_frequencies.most_common(5)\n",
    "\n",
    "            print(\"These are the five most frequent lemmas:\")\n",
    "            for lemma, frequency in most_common_lemmas:\n",
    "                 print(f\"'{lemma}': {frequency}\")\n",
    "\n",
    "except FileNotFoundError:\n",
    "    print(\"File 'article_html.pkl' is not found.\")\n",
    "except Exception as e:\n",
    "    print(f\"An error has occured: {e}\")"
   ]
  },
  {
   "cell_type": "markdown",
   "metadata": {},
   "source": [
    "5. Make a list containing the scores (using tokens) of every sentence in the article, and plot a histogram with appropriate titles and axis labels of the scores. From your histogram, what seems to be the most common range of scores (put the answer in a comment after your code)?"
   ]
  },
  {
   "cell_type": "code",
   "execution_count": 36,
   "metadata": {},
   "outputs": [
    {
     "name": "stdout",
     "output_type": "stream",
     "text": [
      "This is the score of the first sentence using tokens: 0.6\n",
      "This is the score of the first sentence using lemmas: 1.0\n"
     ]
    },
    {
     "data": {
      "text/plain": [
       "<function matplotlib.pyplot.show(close=None, block=None)>"
      ]
     },
     "execution_count": 36,
     "metadata": {},
     "output_type": "execute_result"
    },
    {
     "data": {
      "image/png": "[encoded data removed]",
      "text/plain": [
       "<Figure size 640x480 with 1 Axes>"
      ]
     },
     "metadata": {},
     "output_type": "display_data"
    }
   ],
   "source": [
    "import spacy\n",
    "from collections import Counter\n",
    "import string\n",
    "from spacy.lang.en.stop_words import STOP_WORDS\n",
    "import pickle\n",
    "from bs4 import BeautifulSoup\n",
    "\n",
    "# Load spacy\n",
    "nlp = spacy.load(\"en_core_web_sm\")\n",
    "#process the article\n",
    "doc = nlp(article_text)\n",
    "interesting_tokens = [token.text.lower() for token in doc if token.text.lower() not in nlp.Defaults.stop_words and token.text.lower() not in string.punctuation and not token.is_space]\n",
    "interesting_lemmas = [token.lemma_.lower() for token in doc if not token.is_punct and not token.is_stop and not token.is_space]\n",
    "\n",
    "\n",
    "def score_sentence_by_token(sentence, interesting_token):\n",
    "    words = sentence.lower().split()\n",
    "    num_words = len(words)\n",
    "    num_interesting = sum(1 for word in words if word in interesting_token)\n",
    "    return num_interesting / num_words\n",
    "\n",
    "def score_sentence_by_lemma(sentence, interesting_lemmas):\n",
    "    doc = nlp(sentence)\n",
    "    lemmas = [token.lemma_.lower() for token in doc if token.is_alpha and token.lower_ not in STOP_WORDS]\n",
    "    num_words = len(lemmas)\n",
    "    num_interesting = sum(1 for lemma in lemmas if lemma in interesting_lemmas)\n",
    "    return num_interesting / num_words\n",
    "\n",
    "# Test the scoring functions using first sentence\n",
    "first_sentence = article_text.split(\".\")[0]\n",
    "print(\"This is the score of the first sentence using tokens:\", score_sentence_by_token(first_sentence, interesting_tokens))\n",
    "print(\"This is the score of the first sentence using lemmas:\", score_sentence_by_lemma(first_sentence, interesting_lemmas))\n",
    "import matplotlib.pyplot as plt\n",
    "\n",
    "sentences = [sent.text for sent in doc.sents]\n",
    "\n",
    "# Adding interesting tokens and scores\n",
    "\n",
    "interesting_tokens = [token.text.lower() for token in doc if token.text.lower() not in nlp.Defaults.stop_words and token.text.lower() not in string.punctuation and not token.is_space]\n",
    "\n",
    "scores_by_tokens = [score_sentence_by_token(sentence, interesting_tokens) for sentence in sentences]\n",
    "plt.hist(scores_by_tokens, bins=20, color='blue', edgecolor=\"gray\")\n",
    "plt.title(\"Sentence Scores Organized by Tokens\")\n",
    "plt.xlabel(\"Score\")\n",
    "plt.ylabel(\"Frequency\")\n",
    "plt.show"
   ]
  },
  {
   "cell_type": "markdown",
   "metadata": {},
   "source": [
    "6. Make a list containing the scores (using lemmas) of every sentence in the article, and plot a histogram with appropriate titles and axis labels of the scores.  From your histogram, what seems to be the most common range of scores (put the answer in a comment after your code)?"
   ]
  },
  {
   "cell_type": "code",
   "execution_count": 37,
   "metadata": {},
   "outputs": [
    {
     "data": {
      "image/png": "[encoded data removed]",
      "text/plain": [
       "<Figure size 640x480 with 1 Axes>"
      ]
     },
     "metadata": {},
     "output_type": "display_data"
    }
   ],
   "source": [
    "import matplotlib.pyplot as plt\n",
    "\n",
    "def score_sentence_by_lemma(sentence, interesting_lemmas):\n",
    "    doc = nlp(sentence)\n",
    "    stop_words = nlp.Defaults.stop_words\n",
    "    stop_words |= {\"report\", \"comment\", \"March\", \"2021\", \"says\", \"am\", \"at\", \"pm\"}\n",
    "    lemmas = [token.lemma_.lower() for token in doc if token.is_alpha and token.lower_ not in stop_words]\n",
    "    num_words = len(lemmas)\n",
    "    num_interesting = sum(1 for lemma in lemmas if lemma in interesting_lemmas)\n",
    "    if num_words != 0:\n",
    "        return num_interesting / num_words\n",
    "    else: return 0\n",
    "\n",
    "#Creating lemmas Score def\n",
    "interesting_lemmas = [lemma for lemma, _ in most_common_lemmas]\n",
    "sentences = [sent.text for sent in doc.sents]\n",
    "scores_by_lemmas = [score_sentence_by_lemma(sentence, interesting_lemmas) for sentence in sentences]\n",
    "\n",
    "# Plot the histogram of sentence scores\n",
    "plt.hist(scores_by_lemmas, bins=10, color='blue', edgecolor=\"white\")\n",
    "plt.title(\"Sentence Scores Organized by Lemmas\")\n",
    "plt.xlabel(\"Score\")\n",
    "plt.ylabel(\"Frequency\")\n",
    "plt.show()"
   ]
  },
  {
   "cell_type": "markdown",
   "metadata": {},
   "source": [
    "7. Using the histograms from questions 5 and 6, decide a \"cutoff\" score for tokens and lemmas such that fewer than half the sentences would have a score greater than the cutoff score.  Record the scores in this Markdown cell\n",
    "\n",
    "* Cutoff Score (tokens): 0.6\n",
    "* Cutoff Score (lemmas): 1.0\n",
    "\n",
    "Feel free to change these scores as you generate your summaries.  Ideally, we're shooting for at least 6 sentences for our summary, but don't want more than 10 (these numbers are rough estimates; they depend on the length of your article)."
   ]
  },
  {
   "cell_type": "markdown",
   "metadata": {},
   "source": [
    "8. Create a summary of the article by going through every sentence in the article and adding it to an (initially) empty list if its score (based on tokens) is greater than the cutoff score you identified in question 8.  If your loop variable is named `sent`, you may find it easier to add `sent.text.strip()` to your list of sentences.  Print the summary (I would cleanly generate the summary text by `join`ing the strings in your list together with a space (`' '.join(sentence_list)`)."
   ]
  },
  {
   "cell_type": "code",
   "execution_count": 38,
   "metadata": {},
   "outputs": [
    {
     "ename": "FileNotFoundError",
     "evalue": "[Errno 2] No such file or directory: 'article_3.html'",
     "output_type": "error",
     "traceback": [
      "\u001b[1;31m---------------------------------------------------------------------------\u001b[0m",
      "\u001b[1;31mFileNotFoundError\u001b[0m                         Traceback (most recent call last)",
      "Cell \u001b[1;32mIn[38], line 6\u001b[0m\n\u001b[0;32m      3\u001b[0m nlp \u001b[38;5;241m=\u001b[39m spacy\u001b[38;5;241m.\u001b[39mload(\u001b[38;5;124m\"\u001b[39m\u001b[38;5;124men_core_web_sm\u001b[39m\u001b[38;5;124m\"\u001b[39m)\n\u001b[0;32m      5\u001b[0m file_path \u001b[38;5;241m=\u001b[39m \u001b[38;5;124m'\u001b[39m\u001b[38;5;124marticle_3.html\u001b[39m\u001b[38;5;124m'\u001b[39m \n\u001b[1;32m----> 6\u001b[0m \u001b[38;5;28;01mwith\u001b[39;00m \u001b[38;5;28;43mopen\u001b[39;49m\u001b[43m(\u001b[49m\u001b[43mfile_path\u001b[49m\u001b[43m,\u001b[49m\u001b[43m \u001b[49m\u001b[38;5;124;43m'\u001b[39;49m\u001b[38;5;124;43mr\u001b[39;49m\u001b[38;5;124;43m'\u001b[39;49m\u001b[43m,\u001b[49m\u001b[43m \u001b[49m\u001b[43mencoding\u001b[49m\u001b[38;5;241;43m=\u001b[39;49m\u001b[38;5;124;43m'\u001b[39;49m\u001b[38;5;124;43mutf-8\u001b[39;49m\u001b[38;5;124;43m'\u001b[39;49m\u001b[43m)\u001b[49m \u001b[38;5;28;01mas\u001b[39;00m file:\n\u001b[0;32m      7\u001b[0m     article_text \u001b[38;5;241m=\u001b[39m file\u001b[38;5;241m.\u001b[39mread()\n\u001b[0;32m      9\u001b[0m doc \u001b[38;5;241m=\u001b[39m nlp(article_text)\n",
      "File \u001b[1;32m~\\AppData\\Local\\Packages\\PythonSoftwareFoundation.Python.3.12_qbz5n2kfra8p0\\LocalCache\\local-packages\\Python312\\site-packages\\IPython\\core\\interactiveshell.py:324\u001b[0m, in \u001b[0;36m_modified_open\u001b[1;34m(file, *args, **kwargs)\u001b[0m\n\u001b[0;32m    317\u001b[0m \u001b[38;5;28;01mif\u001b[39;00m file \u001b[38;5;129;01min\u001b[39;00m {\u001b[38;5;241m0\u001b[39m, \u001b[38;5;241m1\u001b[39m, \u001b[38;5;241m2\u001b[39m}:\n\u001b[0;32m    318\u001b[0m     \u001b[38;5;28;01mraise\u001b[39;00m \u001b[38;5;167;01mValueError\u001b[39;00m(\n\u001b[0;32m    319\u001b[0m         \u001b[38;5;124mf\u001b[39m\u001b[38;5;124m\"\u001b[39m\u001b[38;5;124mIPython won\u001b[39m\u001b[38;5;124m'\u001b[39m\u001b[38;5;124mt let you open fd=\u001b[39m\u001b[38;5;132;01m{\u001b[39;00mfile\u001b[38;5;132;01m}\u001b[39;00m\u001b[38;5;124m by default \u001b[39m\u001b[38;5;124m\"\u001b[39m\n\u001b[0;32m    320\u001b[0m         \u001b[38;5;124m\"\u001b[39m\u001b[38;5;124mas it is likely to crash IPython. If you know what you are doing, \u001b[39m\u001b[38;5;124m\"\u001b[39m\n\u001b[0;32m    321\u001b[0m         \u001b[38;5;124m\"\u001b[39m\u001b[38;5;124myou can use builtins\u001b[39m\u001b[38;5;124m'\u001b[39m\u001b[38;5;124m open.\u001b[39m\u001b[38;5;124m\"\u001b[39m\n\u001b[0;32m    322\u001b[0m     )\n\u001b[1;32m--> 324\u001b[0m \u001b[38;5;28;01mreturn\u001b[39;00m \u001b[43mio_open\u001b[49m\u001b[43m(\u001b[49m\u001b[43mfile\u001b[49m\u001b[43m,\u001b[49m\u001b[43m \u001b[49m\u001b[38;5;241;43m*\u001b[39;49m\u001b[43margs\u001b[49m\u001b[43m,\u001b[49m\u001b[43m \u001b[49m\u001b[38;5;241;43m*\u001b[39;49m\u001b[38;5;241;43m*\u001b[39;49m\u001b[43mkwargs\u001b[49m\u001b[43m)\u001b[49m\n",
      "\u001b[1;31mFileNotFoundError\u001b[0m: [Errno 2] No such file or directory: 'article_3.html'"
     ]
    }
   ],
   "source": [
    "import spacy\n",
    "from textblob import TextBlob\n",
    "nlp = spacy.load(\"en_core_web_sm\")\n",
    "\n",
    "file_path = 'article_3.html' \n",
    "with open(file_path, 'r', encoding='utf-8') as file:\n",
    "    article_text = file.read()\n",
    "\n",
    "doc = nlp(article_text)\n",
    "sentences = [sent.text.strip() for sent in doc.sents]\n",
    "\n",
    "your_cutoff_score = 0.2\n",
    "summary_sentences = []\n",
    "\n",
    "for sentence in sentences:\n",
    "    blob = TextBlob(sentence)\n",
    "    if blob.sentiment.polarity > your_cutoff_score:\n",
    "        summary_sentences.append(sentence)\n",
    "\n",
    "summary_text = ' '.join(summary_sentences)\n",
    "\n",
    "summary_blob = TextBlob(summary_text)\n",
    "summary_polarity_score = summary_blob.sentiment.polarity\n",
    "\n",
    "print(\"Polarity Score of Summary (Token Scores):\", summary_polarity_score)\n",
    "\n",
    "num_summary_sentences = len(summary_sentences)\n",
    "print(\"Number of Sentences in Summarized Article:\", num_summary_sentences)"
   ]
  },
  {
   "cell_type": "markdown",
   "metadata": {},
   "source": [
    "9. Print the polarity score of your summary you generated with the token scores (with an appropriate label). Additionally, print the number of sentences in the summarized article."
   ]
  },
  {
   "cell_type": "code",
   "execution_count": null,
   "metadata": {},
   "outputs": [],
   "source": []
  },
  {
   "cell_type": "markdown",
   "metadata": {},
   "source": [
    "10. Create a summary of the article by going through every sentence in the article and adding it to an (initially) empty list if its score (based on lemmas) is greater than the cutoff score you identified in question 8.  If your loop variable is named `sent`, you may find it easier to add `sent.text.strip()` to your list of sentences.  Print the summary (I would cleanly generate the summary text by `join`ing the strings in your list together with a space (`' '.join(sentence_list)`)."
   ]
  },
  {
   "cell_type": "code",
   "execution_count": null,
   "metadata": {},
   "outputs": [],
   "source": []
  },
  {
   "cell_type": "markdown",
   "metadata": {},
   "source": [
    "11. Print the polarity score of your summary you generated with the lemma scores (with an appropriate label). Additionally, print the number of sentences in the summarized article."
   ]
  },
  {
   "cell_type": "code",
   "execution_count": null,
   "metadata": {},
   "outputs": [],
   "source": []
  },
  {
   "cell_type": "markdown",
   "metadata": {},
   "source": [
    "12.  Compare your polarity scores of your summaries to the polarity scores of the initial article.  Is there a difference?  Why do you think that may or may not be?.  Answer in this Markdown cell.  "
   ]
  },
  {
   "cell_type": "markdown",
   "metadata": {},
   "source": [
    "13. Based on your reading of the original article, which summary do you think is better (if there's a difference).  Why do you think this might be?"
   ]
  }
 ],
 "metadata": {
  "kernelspec": {
   "display_name": "Python 3",
   "language": "python",
   "name": "python3"
  },
  "language_info": {
   "codemirror_mode": {
    "name": "ipython",
    "version": 3
   },
   "file_extension": ".py",
   "mimetype": "text/x-python",
   "name": "python",
   "nbconvert_exporter": "python",
   "pygments_lexer": "ipython3",
   "version": "3.12.2"
  }
 },
 "nbformat": 4,
 "nbformat_minor": 4
}
